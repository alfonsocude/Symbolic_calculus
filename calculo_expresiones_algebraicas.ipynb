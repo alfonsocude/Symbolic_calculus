{
 "metadata": {
  "language_info": {
   "codemirror_mode": {
    "name": "ipython",
    "version": 3
   },
   "file_extension": ".py",
   "mimetype": "text/x-python",
   "name": "python",
   "nbconvert_exporter": "python",
   "pygments_lexer": "ipython3",
   "version": "3.8.8"
  },
  "orig_nbformat": 4,
  "kernelspec": {
   "name": "python3",
   "display_name": "Python 3.8.8 64-bit ('base': conda)"
  },
  "interpreter": {
   "hash": "48b2dac2427e5c4bd2b5479f4e612135ec3351219f6a8504495dceeac711d204"
  }
 },
 "nbformat": 4,
 "nbformat_minor": 2,
 "cells": [
  {
   "cell_type": "markdown",
   "source": [
    "# **Cálculo simbólico de expresiones algebraicas**\n",
    "\n",
    "Para realizar cálculos de expresiones algebraicas utilizamos la librería sympy"
   ],
   "metadata": {}
  },
  {
   "cell_type": "code",
   "execution_count": 1,
   "source": [
    "from sympy import *"
   ],
   "outputs": [],
   "metadata": {}
  },
  {
   "cell_type": "markdown",
   "source": [
    "Debemos designar las variables con las que queremos trabajar en sympy, para ello utilizamos el comando Symbol"
   ],
   "metadata": {}
  },
  {
   "cell_type": "code",
   "execution_count": 4,
   "source": [
    "x = Symbol('x')\n",
    "y = Symbol('y')\n",
    "z = Symbol('z')"
   ],
   "outputs": [],
   "metadata": {}
  },
  {
   "cell_type": "markdown",
   "source": [
    "## **Expresiones algebraicas**"
   ],
   "metadata": {}
  },
  {
   "cell_type": "code",
   "execution_count": 4,
   "source": [
    "x+y+x-y"
   ],
   "outputs": [
    {
     "output_type": "execute_result",
     "data": {
      "text/plain": [
       "2*x"
      ],
      "text/latex": [
       "$\\displaystyle 2 x$"
      ]
     },
     "metadata": {},
     "execution_count": 4
    }
   ],
   "metadata": {}
  },
  {
   "cell_type": "markdown",
   "source": [
    "## **Expansión de expresiones matemáticas**"
   ],
   "metadata": {}
  },
  {
   "cell_type": "code",
   "execution_count": 5,
   "source": [
    "expand((x+y)**2)"
   ],
   "outputs": [
    {
     "output_type": "execute_result",
     "data": {
      "text/plain": [
       "x**2 + 2*x*y + y**2"
      ],
      "text/latex": [
       "$\\displaystyle x^{2} + 2 x y + y^{2}$"
      ]
     },
     "metadata": {},
     "execution_count": 5
    }
   ],
   "metadata": {}
  },
  {
   "cell_type": "code",
   "execution_count": 6,
   "source": [
    "expand(cos(x+y), trig = True)"
   ],
   "outputs": [
    {
     "output_type": "execute_result",
     "data": {
      "text/plain": [
       "-sin(x)*sin(y) + cos(x)*cos(y)"
      ],
      "text/latex": [
       "$\\displaystyle - \\sin{\\left(x \\right)} \\sin{\\left(y \\right)} + \\cos{\\left(x \\right)} \\cos{\\left(y \\right)}$"
      ]
     },
     "metadata": {},
     "execution_count": 6
    }
   ],
   "metadata": {}
  },
  {
   "cell_type": "markdown",
   "source": [
    "## **Simplificación de expresiones matemáticas**"
   ],
   "metadata": {}
  },
  {
   "cell_type": "code",
   "execution_count": 7,
   "source": [
    "simplify((x+x*y)/x)"
   ],
   "outputs": [
    {
     "output_type": "execute_result",
     "data": {
      "text/plain": [
       "y + 1"
      ],
      "text/latex": [
       "$\\displaystyle y + 1$"
      ]
     },
     "metadata": {},
     "execution_count": 7
    }
   ],
   "metadata": {}
  },
  {
   "cell_type": "code",
   "execution_count": 8,
   "source": [
    "simplify(sin(x)/ cos(x))"
   ],
   "outputs": [
    {
     "output_type": "execute_result",
     "data": {
      "text/plain": [
       "tan(x)"
      ],
      "text/latex": [
       "$\\displaystyle \\tan{\\left(x \\right)}$"
      ]
     },
     "metadata": {},
     "execution_count": 8
    }
   ],
   "metadata": {}
  },
  {
   "cell_type": "code",
   "execution_count": 9,
   "source": [
    "simplify(((x**(3/2)*y**(5/2)*z**(-2))/(x**(-3)*y**2*z**2))**(-1))"
   ],
   "outputs": [
    {
     "output_type": "execute_result",
     "data": {
      "text/plain": [
       "x**(-4.5)*y**(-0.5)*z**4"
      ],
      "text/latex": [
       "$\\displaystyle \\frac{z^{4}}{x^{4.5} y^{0.5}}$"
      ]
     },
     "metadata": {},
     "execution_count": 9
    }
   ],
   "metadata": {}
  },
  {
   "cell_type": "markdown",
   "source": [
    "## **Operaciones con polinomios**"
   ],
   "metadata": {}
  },
  {
   "cell_type": "code",
   "execution_count": 10,
   "source": [
    "f = 2*x**2-3*x+5\n",
    "g = x**3-5*x**2+x+1"
   ],
   "outputs": [],
   "metadata": {}
  },
  {
   "cell_type": "code",
   "execution_count": 11,
   "source": [
    "f+g\n",
    "f-g\n",
    "g-f\n",
    "expand(f*g)"
   ],
   "outputs": [
    {
     "output_type": "execute_result",
     "data": {
      "text/plain": [
       "2*x**5 - 13*x**4 + 22*x**3 - 26*x**2 + 2*x + 5"
      ],
      "text/latex": [
       "$\\displaystyle 2 x^{5} - 13 x^{4} + 22 x^{3} - 26 x^{2} + 2 x + 5$"
      ]
     },
     "metadata": {},
     "execution_count": 11
    }
   ],
   "metadata": {}
  },
  {
   "cell_type": "markdown",
   "source": [
    "## **Factorización**"
   ],
   "metadata": {}
  },
  {
   "cell_type": "code",
   "execution_count": 12,
   "source": [
    "factor(9*x**2+30*x+25)"
   ],
   "outputs": [
    {
     "output_type": "execute_result",
     "data": {
      "text/plain": [
       "(3*x + 5)**2"
      ],
      "text/latex": [
       "$\\displaystyle \\left(3 x + 5\\right)^{2}$"
      ]
     },
     "metadata": {},
     "execution_count": 12
    }
   ],
   "metadata": {}
  },
  {
   "cell_type": "code",
   "execution_count": 13,
   "source": [
    "factor((x+4)**3-9*x-36)"
   ],
   "outputs": [
    {
     "output_type": "execute_result",
     "data": {
      "text/plain": [
       "(x + 1)*(x + 4)*(x + 7)"
      ],
      "text/latex": [
       "$\\displaystyle \\left(x + 1\\right) \\left(x + 4\\right) \\left(x + 7\\right)$"
      ]
     },
     "metadata": {},
     "execution_count": 13
    }
   ],
   "metadata": {}
  },
  {
   "cell_type": "code",
   "execution_count": 14,
   "source": [
    "factor(x**3-6*x**2+12*x-8)\n"
   ],
   "outputs": [
    {
     "output_type": "execute_result",
     "data": {
      "text/plain": [
       "(x - 2)**3"
      ],
      "text/latex": [
       "$\\displaystyle \\left(x - 2\\right)^{3}$"
      ]
     },
     "metadata": {},
     "execution_count": 14
    }
   ],
   "metadata": {}
  },
  {
   "cell_type": "markdown",
   "source": [
    "## **Solución de ecuaciones**\n",
    "\n",
    "Para solucionar ecuaciones importamos la función solveset y S de la librería sympy"
   ],
   "metadata": {}
  },
  {
   "cell_type": "code",
   "execution_count": null,
   "source": [
    "from sympy import solveset, S"
   ],
   "outputs": [],
   "metadata": {}
  },
  {
   "cell_type": "code",
   "execution_count": 12,
   "source": [
    "solveset(36-(2*x+5),x)"
   ],
   "outputs": [
    {
     "output_type": "execute_result",
     "data": {
      "text/plain": [
       "FiniteSet(31/2)"
      ],
      "text/latex": [
       "$\\displaystyle \\left\\{\\frac{31}{2}\\right\\}$"
      ]
     },
     "metadata": {},
     "execution_count": 12
    }
   ],
   "metadata": {}
  },
  {
   "cell_type": "code",
   "execution_count": 11,
   "source": [
    "solveset(x**2+2*sqrt(3)*x+3,x)"
   ],
   "outputs": [
    {
     "output_type": "execute_result",
     "data": {
      "text/plain": [
       "FiniteSet(-sqrt(3))"
      ],
      "text/latex": [
       "$\\displaystyle \\left\\{- \\sqrt{3}\\right\\}$"
      ]
     },
     "metadata": {},
     "execution_count": 11
    }
   ],
   "metadata": {}
  },
  {
   "cell_type": "code",
   "execution_count": 10,
   "source": [
    "solveset(12+3*(x+1)**2-(x+4)**2, x)"
   ],
   "outputs": [
    {
     "output_type": "execute_result",
     "data": {
      "text/plain": [
       "FiniteSet(1/2 - sqrt(3)/2, 1/2 + sqrt(3)/2)"
      ],
      "text/latex": [
       "$\\displaystyle \\left\\{\\frac{1}{2} - \\frac{\\sqrt{3}}{2}, \\frac{1}{2} + \\frac{\\sqrt{3}}{2}\\right\\}$"
      ]
     },
     "metadata": {},
     "execution_count": 10
    }
   ],
   "metadata": {}
  },
  {
   "cell_type": "markdown",
   "source": [
    "## **Desigualdades**"
   ],
   "metadata": {}
  },
  {
   "cell_type": "code",
   "execution_count": 5,
   "source": [
    "solveset(3*x+4<2*x-1, x, S.Reals)"
   ],
   "outputs": [
    {
     "output_type": "execute_result",
     "data": {
      "text/plain": [
       "Interval.open(-oo, -5)"
      ],
      "text/latex": [
       "$\\displaystyle \\left(-\\infty, -5\\right)$"
      ]
     },
     "metadata": {},
     "execution_count": 5
    }
   ],
   "metadata": {}
  },
  {
   "cell_type": "code",
   "execution_count": 6,
   "source": [
    "solveset(x-5>=4*x+6, x, S.Reals)"
   ],
   "outputs": [
    {
     "output_type": "execute_result",
     "data": {
      "text/plain": [
       "Interval(-oo, -11/3)"
      ],
      "text/latex": [
       "$\\displaystyle \\left(-\\infty, - \\frac{11}{3}\\right]$"
      ]
     },
     "metadata": {},
     "execution_count": 6
    }
   ],
   "metadata": {}
  },
  {
   "cell_type": "code",
   "execution_count": 14,
   "source": [
    "solveset(x**2+5*x+6>=0, x, S.Reals)"
   ],
   "outputs": [
    {
     "output_type": "execute_result",
     "data": {
      "text/plain": [
       "Union(Interval(-oo, -3), Interval(-2, oo))"
      ],
      "text/latex": [
       "$\\displaystyle \\left(-\\infty, -3\\right] \\cup \\left[-2, \\infty\\right)$"
      ]
     },
     "metadata": {},
     "execution_count": 14
    }
   ],
   "metadata": {}
  },
  {
   "cell_type": "code",
   "execution_count": 7,
   "source": [
    "solveset(3/(x+2)> 1/(x-1), x, S.Reals)"
   ],
   "outputs": [
    {
     "output_type": "execute_result",
     "data": {
      "text/plain": [
       "Union(Interval.open(-2, 1), Interval.open(5/2, oo))"
      ],
      "text/latex": [
       "$\\displaystyle \\left(-2, 1\\right) \\cup \\left(\\frac{5}{2}, \\infty\\right)$"
      ]
     },
     "metadata": {},
     "execution_count": 7
    }
   ],
   "metadata": {}
  },
  {
   "cell_type": "code",
   "execution_count": 8,
   "source": [
    "solveset(abs(2*x+1)<=1, x, S.Reals)"
   ],
   "outputs": [
    {
     "output_type": "execute_result",
     "data": {
      "text/plain": [
       "Interval(-1, 0)"
      ],
      "text/latex": [
       "$\\displaystyle \\left[-1, 0\\right]$"
      ]
     },
     "metadata": {},
     "execution_count": 8
    }
   ],
   "metadata": {}
  },
  {
   "cell_type": "code",
   "execution_count": 9,
   "source": [
    "solveset(abs((2*x-1)/(4*x-3))>=1, x, S.Reals)"
   ],
   "outputs": [
    {
     "output_type": "execute_result",
     "data": {
      "text/plain": [
       "Union(Interval.Ropen(2/3, 3/4), Interval.Lopen(3/4, 1))"
      ],
      "text/latex": [
       "$\\displaystyle \\left[\\frac{2}{3}, \\frac{3}{4}\\right) \\cup \\left(\\frac{3}{4}, 1\\right]$"
      ]
     },
     "metadata": {},
     "execution_count": 9
    }
   ],
   "metadata": {}
  }
 ]
}