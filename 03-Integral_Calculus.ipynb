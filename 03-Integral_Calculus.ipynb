{
 "metadata": {
  "language_info": {
   "codemirror_mode": {
    "name": "ipython",
    "version": 3
   },
   "file_extension": ".py",
   "mimetype": "text/x-python",
   "name": "python",
   "nbconvert_exporter": "python",
   "pygments_lexer": "ipython3",
   "version": "3.8.8"
  },
  "orig_nbformat": 4,
  "kernelspec": {
   "name": "python3",
   "display_name": "Python 3.8.8 64-bit ('base': conda)"
  },
  "interpreter": {
   "hash": "48b2dac2427e5c4bd2b5479f4e612135ec3351219f6a8504495dceeac711d204"
  }
 },
 "nbformat": 4,
 "nbformat_minor": 2,
 "cells": [
  {
   "cell_type": "markdown",
   "source": [
    "<a href=\"https://colab.research.google.com/github/alfonsocude/Symbolic_calculus/blob/main/Integral_Calculus.ipynb\" target=\"_parent\"><img src=\"https://colab.research.google.com/assets/colab-badge.svg\" alt=\"Open In Colab\"/></a>\n",
    "\n",
    "\n",
    "**Recuerda que una vez abierto, Da clic en \"Copiar en Drive\", de lo contrario no podras almancenar tu progreso**\n",
    "\n",
    "Nota: no olvide ir ejecutando las celdas de código de arriba hacia abajo para que no tenga errores de importación de librerías o por falta de definición de variables."
   ],
   "metadata": {}
  },
  {
   "cell_type": "markdown",
   "source": [
    "# **Cálculo Integral**\n",
    "\n",
    "Para realizar calculo simbólico vamos a utilizar la librearía sympy de python."
   ],
   "metadata": {}
  },
  {
   "cell_type": "code",
   "execution_count": 1,
   "source": [
    "from sympy import *"
   ],
   "outputs": [],
   "metadata": {}
  },
  {
   "cell_type": "markdown",
   "source": [
    "Utilizamos el comando Symbol para definir las variables que se van a utilizar para realizar cálculo simbólico."
   ],
   "metadata": {}
  },
  {
   "cell_type": "code",
   "execution_count": 2,
   "source": [
    "x = Symbol('x')\n",
    "y = Symbol('y')\n",
    "i = Symbol('i')\n",
    "n = Symbol('n')"
   ],
   "outputs": [],
   "metadata": {}
  },
  {
   "cell_type": "markdown",
   "source": [
    "## **Notación Sigma**\n",
    "\n",
    "Podemos representar sumas en notación sigma y calcular su suma. Para ello primero importamos la función Sum() de la librería sympy"
   ],
   "metadata": {}
  },
  {
   "cell_type": "code",
   "execution_count": 3,
   "source": [
    "from sympy import Sum"
   ],
   "outputs": [],
   "metadata": {}
  },
  {
   "cell_type": "markdown",
   "source": [
    "Vamos a calcular $\\displaystyle{\\sum_{i=1}^{10} i^2}$"
   ],
   "metadata": {}
  },
  {
   "cell_type": "code",
   "execution_count": 4,
   "source": [
    "square_sum = Sum(i**2, (i, 1, 10))\n",
    "square_sum"
   ],
   "outputs": [
    {
     "output_type": "execute_result",
     "data": {
      "text/latex": [
       "$\\displaystyle \\sum_{i=1}^{10} i^{2}$"
      ],
      "text/plain": [
       "Sum(i**2, (i, 1, 10))"
      ]
     },
     "metadata": {},
     "execution_count": 4
    }
   ],
   "metadata": {}
  },
  {
   "cell_type": "markdown",
   "source": [
    "A continuación, para calcular la suma usamos el comando doit()"
   ],
   "metadata": {}
  },
  {
   "cell_type": "code",
   "execution_count": 5,
   "source": [
    "square_sum.doit()"
   ],
   "outputs": [
    {
     "output_type": "execute_result",
     "data": {
      "text/latex": [
       "$\\displaystyle 385$"
      ],
      "text/plain": [
       "385"
      ]
     },
     "metadata": {},
     "execution_count": 5
    }
   ],
   "metadata": {}
  },
  {
   "cell_type": "markdown",
   "source": [
    "## **Sumas de Riemann**\n",
    "\n",
    "Ahora vamos a calcular áreas bajo la curva por medio de sumas de Riemann.\n",
    "\n",
    "Calculemos $\\displaystyle{\\sum_{i=1}^n \\frac{i^2}{n^3}}$, para ello utilizamos el comando Sum(). "
   ],
   "metadata": {}
  },
  {
   "cell_type": "code",
   "execution_count": 6,
   "source": [
    "sq_sum = Sum(i**2/n**3, (i, 1, n)).doit()\n",
    "sq_sum"
   ],
   "outputs": [
    {
     "output_type": "execute_result",
     "data": {
      "text/latex": [
       "$\\displaystyle \\frac{\\frac{n^{3}}{3} + \\frac{n^{2}}{2} + \\frac{n}{6}}{n^{3}}$"
      ],
      "text/plain": [
       "(n**3/3 + n**2/2 + n/6)/n**3"
      ]
     },
     "metadata": {},
     "execution_count": 6
    }
   ],
   "metadata": {}
  },
  {
   "cell_type": "markdown",
   "source": [
    "Ahora calculamos el límite de la suma de Riemann utilizando limit()"
   ],
   "metadata": {}
  },
  {
   "cell_type": "code",
   "execution_count": 7,
   "source": [
    "sq_sum.limit(n, oo)"
   ],
   "outputs": [
    {
     "output_type": "execute_result",
     "data": {
      "text/latex": [
       "$\\displaystyle \\frac{1}{3}$"
      ],
      "text/plain": [
       "1/3"
      ]
     },
     "metadata": {},
     "execution_count": 7
    }
   ],
   "metadata": {}
  },
  {
   "cell_type": "markdown",
   "source": [
    "## **Integrales Definidas**\n",
    "\n",
    "Para calcular integrales de la forma $ \\displaystyle{\\int_a^b f(x)\\,dx} $ utilizamos el comando integrate()"
   ],
   "metadata": {}
  },
  {
   "cell_type": "code",
   "execution_count": 8,
   "source": [
    "integrate(x**2, (x,0,1))"
   ],
   "outputs": [
    {
     "output_type": "execute_result",
     "data": {
      "text/latex": [
       "$\\displaystyle \\frac{1}{3}$"
      ],
      "text/plain": [
       "1/3"
      ]
     },
     "metadata": {},
     "execution_count": 8
    }
   ],
   "metadata": {}
  },
  {
   "cell_type": "markdown",
   "source": [
    "Para utilizar funciones trigonométricas, exponenciales y sus inversas, usamos la librería math"
   ],
   "metadata": {}
  },
  {
   "cell_type": "code",
   "execution_count": 9,
   "source": [
    "import math"
   ],
   "outputs": [],
   "metadata": {}
  },
  {
   "cell_type": "markdown",
   "source": [
    "Calculemos la integral $\\displaystyle{\\int_0^{\\pi/2} \\cos x\\, dx}$"
   ],
   "metadata": {}
  },
  {
   "cell_type": "code",
   "execution_count": 10,
   "source": [
    "integrate(cos(x), (x, 0, pi/2))"
   ],
   "outputs": [
    {
     "output_type": "execute_result",
     "data": {
      "text/latex": [
       "$\\displaystyle 1$"
      ],
      "text/plain": [
       "1"
      ]
     },
     "metadata": {},
     "execution_count": 10
    }
   ],
   "metadata": {}
  },
  {
   "cell_type": "markdown",
   "source": [
    "## **Integrales indefinidas**\n",
    "\n",
    "Para calcular integrales de la forma $ \\displaystyle{\\int f(x)\\,dx} $ utilizamos el comando integrate()"
   ],
   "metadata": {}
  },
  {
   "cell_type": "code",
   "execution_count": 11,
   "source": [
    "integrate(x**2, x)"
   ],
   "outputs": [
    {
     "output_type": "execute_result",
     "data": {
      "text/latex": [
       "$\\displaystyle \\frac{x^{3}}{3}$"
      ],
      "text/plain": [
       "x**3/3"
      ]
     },
     "metadata": {},
     "execution_count": 11
    }
   ],
   "metadata": {}
  },
  {
   "cell_type": "markdown",
   "source": [
    "# **Aplicaciones** \n",
    "Una empresa está considerando una inversión de 5 años y estima que dentro de $t$ años la inversión estará generando un flujo de ingresos de $3000 + 50t$ dólares por año. Si la tasa prevaleciente de interés anual permanece fija en $4\\%$, y es capitalizada continuamente durante los 5 años ¿cuál es la inversión en 5 años?"
   ],
   "metadata": {}
  },
  {
   "cell_type": "markdown",
   "source": [
    "El valor de la inversión  se mide como el valor futuro del flujo de ingreso en el término de 5 años es:\n",
    "$\\displaystyle{VF= \\int_0^T f(t) e^{r(T-t)}} dt$\n",
    "\n",
    "$VF=\\displaystyle {\\int_0^5 (3000+50t)} e^{0.04(5-t)} \\, dt$"
   ],
   "metadata": {}
  },
  {
   "cell_type": "markdown",
   "source": [
    "## **Fracciones Parciales**\n",
    "\n",
    "Vamos a desarrollar un método para integrar expresiones de la forma $P(x) / Q(x)$ donde $P(x)$ y $Q(x)$ son polinomios. Para ello vamos a considerar la función de sympy apart()."
   ],
   "metadata": {}
  },
  {
   "cell_type": "markdown",
   "source": [
    "### **Ejemplo**\n",
    "Consideremos la expresión\n",
    "$$\n",
    "    \\frac{10}{5x^2 - 2x^3}\n",
    "$$"
   ],
   "metadata": {}
  },
  {
   "cell_type": "code",
   "execution_count": 14,
   "source": [
    "apart(10/(5*x**2 - 2*x**3))"
   ],
   "outputs": [
    {
     "output_type": "execute_result",
     "data": {
      "text/latex": [
       "$\\displaystyle - \\frac{8}{5 \\left(2 x - 5\\right)} + \\frac{4}{5 x} + \\frac{2}{x^{2}}$"
      ],
      "text/plain": [
       "-8/(5*(2*x - 5)) + 4/(5*x) + 2/x**2"
      ]
     },
     "metadata": {},
     "execution_count": 14
    }
   ],
   "metadata": {}
  },
  {
   "cell_type": "markdown",
   "source": [
    "## **Integrales impropias**\n",
    "\n",
    "Para calcular integrales de la forma $ \\displaystyle{\\int_{a}^{\\infty} f(x)\\,dx} $ utilizamos el comando integrate() y el símbolo \"oo\" para representar $\\infty$."
   ],
   "metadata": {}
  },
  {
   "cell_type": "code",
   "execution_count": 12,
   "source": [
    "integrate(1/x**2, (x, 1, oo))"
   ],
   "outputs": [
    {
     "output_type": "execute_result",
     "data": {
      "text/latex": [
       "$\\displaystyle 1$"
      ],
      "text/plain": [
       "1"
      ]
     },
     "metadata": {},
     "execution_count": 12
    }
   ],
   "metadata": {}
  },
  {
   "cell_type": "code",
   "execution_count": 13,
   "source": [
    "integrate(x*exp(-x), (x,1,oo))"
   ],
   "outputs": [
    {
     "output_type": "execute_result",
     "data": {
      "text/latex": [
       "$\\displaystyle \\frac{2}{e}$"
      ],
      "text/plain": [
       "2*exp(-1)"
      ]
     },
     "metadata": {},
     "execution_count": 13
    }
   ],
   "metadata": {}
  }
 ]
}