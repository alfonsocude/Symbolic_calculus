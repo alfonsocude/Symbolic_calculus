{
 "metadata": {
  "language_info": {
   "codemirror_mode": {
    "name": "ipython",
    "version": 3
   },
   "file_extension": ".py",
   "mimetype": "text/x-python",
   "name": "python",
   "nbconvert_exporter": "python",
   "pygments_lexer": "ipython3",
   "version": "3.8.8"
  },
  "orig_nbformat": 4,
  "kernelspec": {
   "name": "python3",
   "display_name": "Python 3.8.8 64-bit ('base': conda)"
  },
  "interpreter": {
   "hash": "48b2dac2427e5c4bd2b5479f4e612135ec3351219f6a8504495dceeac711d204"
  }
 },
 "nbformat": 4,
 "nbformat_minor": 2,
 "cells": [
  {
   "cell_type": "markdown",
   "source": [
    "<a href=\"https://colab.research.google.com/github/alfonsocude/Symbolic_calculus/blob/main/Integral_Calculus.ipynb\" target=\"_parent\"><img src=\"https://colab.research.google.com/assets/colab-badge.svg\" alt=\"Open In Colab\"/></a>\n",
    "\n",
    "\n",
    "**Recuerda que una vez abierto, Da clic en \"Copiar en Drive\", de lo contrario no podras almancenar tu progreso**\n",
    "\n",
    "Nota: no olvide ir ejecutando las celdas de código de arriba hacia abajo para que no tenga errores de importación de librerías o por falta de definición de variables."
   ],
   "metadata": {}
  },
  {
   "cell_type": "markdown",
   "source": [
    "# **Integrales**\n",
    "\n",
    "Para realizar calculo simbólico vamos a utilizar la librearía sympy de python."
   ],
   "metadata": {}
  },
  {
   "cell_type": "code",
   "execution_count": null,
   "source": [
    "from sympy import *"
   ],
   "outputs": [],
   "metadata": {}
  },
  {
   "cell_type": "markdown",
   "source": [
    "Utilizamos el comando Symbol para definir las variables que se van a utilizar para realizar cálculo simbólico."
   ],
   "metadata": {}
  },
  {
   "cell_type": "code",
   "execution_count": null,
   "source": [
    "x = Symbol('x')\n",
    "y = Symbol('y')\n",
    "i = Symbol('i')\n",
    "n = Symbol('n')"
   ],
   "outputs": [],
   "metadata": {}
  },
  {
   "cell_type": "markdown",
   "source": [
    "## **Notación Sigma**\n",
    "\n",
    "Podemos representar sumas en notación sigma y calcular su suma. Para ello primero importamos la función Sum() de la librería sympy"
   ],
   "metadata": {}
  },
  {
   "cell_type": "code",
   "execution_count": null,
   "source": [
    "from sympy import Sum"
   ],
   "outputs": [],
   "metadata": {}
  },
  {
   "cell_type": "markdown",
   "source": [
    "Vamos a calcular $\\displaystyle{\\sum_{i=1}^{10} i^2}$"
   ],
   "metadata": {}
  },
  {
   "cell_type": "code",
   "execution_count": null,
   "source": [
    "square_sum = Sum(i**2, (i, 1, 10))\n",
    "square_sum"
   ],
   "outputs": [],
   "metadata": {}
  },
  {
   "cell_type": "markdown",
   "source": [
    "A continuación, para calcular la suma usamos el comando doit()"
   ],
   "metadata": {}
  },
  {
   "cell_type": "code",
   "execution_count": null,
   "source": [
    "square_sum.doit()"
   ],
   "outputs": [],
   "metadata": {}
  },
  {
   "cell_type": "markdown",
   "source": [
    "## **Sumas de Riemann**\n",
    "\n",
    "Ahora vamos a calcular áreas bajo la curva por medio de sumas de Riemann.\n",
    "\n",
    "Calculemos $\\displaystyle{\\sum_{i=1}^n \\frac{i^2}{n^3}}$, para ello utilizamos el comando Sum(). "
   ],
   "metadata": {}
  },
  {
   "cell_type": "code",
   "execution_count": null,
   "source": [
    "sq_sum = Sum(i**2/n**3, (i, 1, n)).doit()\n",
    "sq_sum"
   ],
   "outputs": [],
   "metadata": {}
  },
  {
   "cell_type": "markdown",
   "source": [
    "Ahora calculamos el límite de la suma de Riemann utilizando limit()"
   ],
   "metadata": {}
  },
  {
   "cell_type": "code",
   "execution_count": null,
   "source": [
    "sq_sum.limit(n, oo)"
   ],
   "outputs": [],
   "metadata": {}
  },
  {
   "cell_type": "markdown",
   "source": [
    "## **Integrales Definidas**\n",
    "\n",
    "Para calcular integrales de la forma $ \\displaystyle{\\int_a^b f(x)\\,dx} $ utilizamos el comando integrate()"
   ],
   "metadata": {}
  },
  {
   "cell_type": "code",
   "execution_count": null,
   "source": [
    "integrate(x**2, (x,0,1))"
   ],
   "outputs": [],
   "metadata": {}
  },
  {
   "cell_type": "markdown",
   "source": [
    "## **Integrales indefinidas**\n",
    "\n",
    "Para calcular integrales de la forma $ \\displaystyle{\\int f(x)\\,dx} $ utilizamos el comando integrate()"
   ],
   "metadata": {}
  },
  {
   "cell_type": "code",
   "execution_count": null,
   "source": [
    "integrate(x**2, x)"
   ],
   "outputs": [],
   "metadata": {}
  },
  {
   "cell_type": "markdown",
   "source": [
    "# **Aplicaciones** \n",
    "Una empresa está considerando una inversión de 5 años y estima que dentro de $t$ años la inversión estará generando un flujo de ingresos de $3000 + 50t$ dólares por año. Si la tasa prevaleciente de interés anual permanece fija en $4\\%$, y es capitalizada continuamente durante los 5 años ¿cuál es la inversión en 5 años?"
   ],
   "metadata": {}
  },
  {
   "cell_type": "markdown",
   "source": [
    "El valor de la inversión  se mide como el valor futuro del flujo de ingreso en el término de 5 años es:\n",
    "$\\displaystyle{VF= \\int_0^T f(t) e^{r(T-t)}} dt$\n",
    "\n",
    "$VF=\\displaystyle {\\int_0^5 (3000+50t)} e^{0.04(5-t)} \\, dt$"
   ],
   "metadata": {}
  },
  {
   "cell_type": "markdown",
   "source": [
    "## **Integrales impropias**\n",
    "\n",
    "Para calcular integrales de la forma $ \\displaystyle{\\int_{a}^{\\infty} f(x)\\,dx} $ utilizamos el comando integrate() y el símbolo \"oo\" para representar $\\infty$."
   ],
   "metadata": {}
  },
  {
   "cell_type": "code",
   "execution_count": null,
   "source": [
    "integrate(1/x**2, (x, 1, oo))"
   ],
   "outputs": [],
   "metadata": {}
  },
  {
   "cell_type": "markdown",
   "source": [
    "Para utilizar funciones trinométricas, exponenciales y sus inversas, usamos la librería math"
   ],
   "metadata": {}
  },
  {
   "cell_type": "code",
   "execution_count": null,
   "source": [
    "import math"
   ],
   "outputs": [],
   "metadata": {}
  },
  {
   "cell_type": "code",
   "execution_count": null,
   "source": [
    "sintegrate(x*exp(-x), (x,1,oo))"
   ],
   "outputs": [],
   "metadata": {}
  },
  {
   "cell_type": "code",
   "execution_count": null,
   "source": [
    "from sympy.abc import i, k, m, n, x\n",
    "from sympy import Sum, factorial, oo, IndexedBase, Function"
   ],
   "outputs": [],
   "metadata": {}
  },
  {
   "cell_type": "code",
   "execution_count": null,
   "source": [
    "Sum(k, (k, 1, n)).doit()"
   ],
   "outputs": [],
   "metadata": {}
  },
  {
   "cell_type": "code",
   "execution_count": null,
   "source": [
    "i = Symbol('i')\n",
    "n = Symbol('n')"
   ],
   "outputs": [],
   "metadata": {}
  },
  {
   "cell_type": "code",
   "execution_count": null,
   "source": [
    "limit(Sum(i**2/n**3, (i, 1,n)).doit(), n, oo)"
   ],
   "outputs": [],
   "metadata": {}
  }
 ]
}