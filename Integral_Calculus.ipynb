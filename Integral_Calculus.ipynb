{
 "metadata": {
  "language_info": {
   "codemirror_mode": {
    "name": "ipython",
    "version": 3
   },
   "file_extension": ".py",
   "mimetype": "text/x-python",
   "name": "python",
   "nbconvert_exporter": "python",
   "pygments_lexer": "ipython3",
   "version": "3.8.8"
  },
  "orig_nbformat": 4,
  "kernelspec": {
   "name": "python3",
   "display_name": "Python 3.8.8 64-bit ('base': conda)"
  },
  "interpreter": {
   "hash": "48b2dac2427e5c4bd2b5479f4e612135ec3351219f6a8504495dceeac711d204"
  }
 },
 "nbformat": 4,
 "nbformat_minor": 2,
 "cells": [
  {
   "cell_type": "markdown",
   "source": [
    "# **Integrales**\n",
    "\n",
    "Para realizar calculo simbólico vamos a utilizar la librearía sympy de python."
   ],
   "metadata": {}
  },
  {
   "cell_type": "code",
   "execution_count": 16,
   "source": [
    "from sympy import *"
   ],
   "outputs": [],
   "metadata": {}
  },
  {
   "cell_type": "markdown",
   "source": [
    "Utilizamos el comando Symbol para definir las variables que se van a utilizar para realizar cálculo simbólico."
   ],
   "metadata": {}
  },
  {
   "cell_type": "code",
   "execution_count": 17,
   "source": [
    "x = Symbol('x')\n",
    "y = Symbol('y')\n",
    "i = Symbol('i')\n",
    "n = Symbol('n')"
   ],
   "outputs": [],
   "metadata": {}
  },
  {
   "cell_type": "markdown",
   "source": [
    "## **Notación Sigma**\n",
    "\n",
    "Podemos representar sumas en notación sigma y calcular su suma. Para ello primero importamos la función Sum() de la librería sympy"
   ],
   "metadata": {}
  },
  {
   "cell_type": "code",
   "execution_count": 18,
   "source": [
    "from sympy import Sum"
   ],
   "outputs": [],
   "metadata": {}
  },
  {
   "cell_type": "markdown",
   "source": [
    "Vamos a calcular $\\displaystyle{\\sum_{i=1}^{10} i^2}$"
   ],
   "metadata": {}
  },
  {
   "cell_type": "code",
   "execution_count": 19,
   "source": [
    "square_sum = Sum(i**2, (i, 1, 10))\n",
    "square_sum"
   ],
   "outputs": [
    {
     "output_type": "execute_result",
     "data": {
      "text/plain": [
       "Sum(i**2, (i, 1, 10))"
      ],
      "text/latex": [
       "$\\displaystyle \\sum_{i=1}^{10} i^{2}$"
      ]
     },
     "metadata": {},
     "execution_count": 19
    }
   ],
   "metadata": {}
  },
  {
   "cell_type": "markdown",
   "source": [
    "A continuación, para calcular la suma usammos el comando doit()"
   ],
   "metadata": {}
  },
  {
   "cell_type": "code",
   "execution_count": 20,
   "source": [
    "square_sum.doit()"
   ],
   "outputs": [
    {
     "output_type": "execute_result",
     "data": {
      "text/plain": [
       "385"
      ],
      "text/latex": [
       "$\\displaystyle 385$"
      ]
     },
     "metadata": {},
     "execution_count": 20
    }
   ],
   "metadata": {}
  },
  {
   "cell_type": "markdown",
   "source": [
    "## **Sumas de Riemann**\n",
    "\n",
    "Ahora vamos a calcular áreas bajo la curva por medio de sumas de Riemann.\n",
    "\n",
    "Calculemos $\\displaystyle{\\sum_{i=1}^n \\frac{i^2}{n^3}}$, para ello utilizamos el comando Sum(). "
   ],
   "metadata": {}
  },
  {
   "cell_type": "code",
   "execution_count": 21,
   "source": [
    "sq_sum = Sum(i**2/n**3, (i, 1, n)).doit()\n",
    "sq_sum"
   ],
   "outputs": [
    {
     "output_type": "execute_result",
     "data": {
      "text/plain": [
       "(n**3/3 + n**2/2 + n/6)/n**3"
      ],
      "text/latex": [
       "$\\displaystyle \\frac{\\frac{n^{3}}{3} + \\frac{n^{2}}{2} + \\frac{n}{6}}{n^{3}}$"
      ]
     },
     "metadata": {},
     "execution_count": 21
    }
   ],
   "metadata": {}
  },
  {
   "cell_type": "markdown",
   "source": [
    "Ahora calculamos el límite de la suma de Riemann utilizando limit()"
   ],
   "metadata": {}
  },
  {
   "cell_type": "code",
   "execution_count": 22,
   "source": [
    "sq_sum.limit(n, oo)"
   ],
   "outputs": [
    {
     "output_type": "execute_result",
     "data": {
      "text/plain": [
       "1/3"
      ],
      "text/latex": [
       "$\\displaystyle \\frac{1}{3}$"
      ]
     },
     "metadata": {},
     "execution_count": 22
    }
   ],
   "metadata": {}
  },
  {
   "cell_type": "markdown",
   "source": [
    "## **Integrales Definidas**\n",
    "\n",
    "Para calcular integrales de la forma $ \\displaystyle{\\int_a^b f(x)\\,dx} $ utilizamos el comando integrate()"
   ],
   "metadata": {}
  },
  {
   "cell_type": "code",
   "execution_count": 23,
   "source": [
    "integrate(x**2, (x,0,1))"
   ],
   "outputs": [
    {
     "output_type": "execute_result",
     "data": {
      "text/plain": [
       "1/3"
      ],
      "text/latex": [
       "$\\displaystyle \\frac{1}{3}$"
      ]
     },
     "metadata": {},
     "execution_count": 23
    }
   ],
   "metadata": {}
  },
  {
   "cell_type": "markdown",
   "source": [
    "## **Integrales indefinidas**\n",
    "\n",
    "Para calcular integrales de la forma $ \\displaystyle{\\int f(x)\\,dx} $ utilizamos el comando integrate()"
   ],
   "metadata": {}
  },
  {
   "cell_type": "code",
   "execution_count": 24,
   "source": [
    "integrate(x**2, x)"
   ],
   "outputs": [
    {
     "output_type": "execute_result",
     "data": {
      "text/plain": [
       "x**3/3"
      ],
      "text/latex": [
       "$\\displaystyle \\frac{x^{3}}{3}$"
      ]
     },
     "metadata": {},
     "execution_count": 24
    }
   ],
   "metadata": {}
  },
  {
   "cell_type": "markdown",
   "source": [
    "## **Integrales impropias**\n",
    "\n",
    "Para calcular integrales de la forma $ \\displaystyle{\\int_{a}^{\\infty} f(x)\\,dx} $ utilizamos el comando integrate() y el símbolo \"oo\" para representar $\\infty$."
   ],
   "metadata": {}
  },
  {
   "cell_type": "code",
   "execution_count": 25,
   "source": [
    "integrate(1/x**2, (x, 1, oo))"
   ],
   "outputs": [
    {
     "output_type": "execute_result",
     "data": {
      "text/plain": [
       "1"
      ],
      "text/latex": [
       "$\\displaystyle 1$"
      ]
     },
     "metadata": {},
     "execution_count": 25
    }
   ],
   "metadata": {}
  },
  {
   "cell_type": "code",
   "execution_count": 30,
   "source": [
    "import math"
   ],
   "outputs": [],
   "metadata": {}
  },
  {
   "cell_type": "code",
   "execution_count": 31,
   "source": [
    "integrate(x*exp(-x), (x,1,oo))"
   ],
   "outputs": [
    {
     "output_type": "execute_result",
     "data": {
      "text/plain": [
       "2*exp(-1)"
      ],
      "text/latex": [
       "$\\displaystyle \\frac{2}{e}$"
      ]
     },
     "metadata": {},
     "execution_count": 31
    }
   ],
   "metadata": {}
  },
  {
   "cell_type": "code",
   "execution_count": 26,
   "source": [
    "from sympy.abc import i, k, m, n, x\n",
    "from sympy import Sum, factorial, oo, IndexedBase, Function"
   ],
   "outputs": [],
   "metadata": {}
  },
  {
   "cell_type": "code",
   "execution_count": 27,
   "source": [
    "Sum(k, (k, 1, n)).doit()"
   ],
   "outputs": [
    {
     "output_type": "execute_result",
     "data": {
      "text/plain": [
       "n**2/2 + n/2"
      ],
      "text/latex": [
       "$\\displaystyle \\frac{n^{2}}{2} + \\frac{n}{2}$"
      ]
     },
     "metadata": {},
     "execution_count": 27
    }
   ],
   "metadata": {}
  },
  {
   "cell_type": "code",
   "execution_count": 28,
   "source": [
    "i = Symbol('i')\n",
    "n = Symbol('n')"
   ],
   "outputs": [],
   "metadata": {}
  },
  {
   "cell_type": "code",
   "execution_count": 29,
   "source": [
    "limit(Sum(i**2/n**3, (i, 1,n)).doit(), n, oo)"
   ],
   "outputs": [
    {
     "output_type": "execute_result",
     "data": {
      "text/plain": [
       "1/3"
      ],
      "text/latex": [
       "$\\displaystyle \\frac{1}{3}$"
      ]
     },
     "metadata": {},
     "execution_count": 29
    }
   ],
   "metadata": {}
  }
 ]
}