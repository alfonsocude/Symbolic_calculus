{
 "metadata": {
  "language_info": {
   "codemirror_mode": {
    "name": "ipython",
    "version": 3
   },
   "file_extension": ".py",
   "mimetype": "text/x-python",
   "name": "python",
   "nbconvert_exporter": "python",
   "pygments_lexer": "ipython3",
   "version": "3.8.8"
  },
  "orig_nbformat": 4,
  "kernelspec": {
   "name": "python3",
   "display_name": "Python 3.8.8 64-bit ('base': conda)"
  },
  "interpreter": {
   "hash": "48b2dac2427e5c4bd2b5479f4e612135ec3351219f6a8504495dceeac711d204"
  }
 },
 "nbformat": 4,
 "nbformat_minor": 2,
 "cells": [
  {
   "cell_type": "markdown",
   "source": [
    "<a href=\"https://colab.research.google.com/github/alfonsocude/Symbolic_calculus/blob/main/Integral_Calculus.ipynb\" target=\"_parent\"><img src=\"https://colab.research.google.com/assets/colab-badge.svg\" alt=\"Open In Colab\"/></a>\n",
    "\n",
    "\n",
    "**Recuerda que una vez abierto, Da clic en \"Copiar en Drive\", de lo contrario no podras almancenar tu progreso**\n",
    "\n",
    "Nota: no olvide ir ejecutando las celdas de código de arriba hacia abajo para que no tenga errores de importación de librerías o por falta de definición de variables."
   ],
   "metadata": {}
  },
  {
   "cell_type": "markdown",
   "source": [
    "# **Integrales**\n",
    "\n",
    "Para realizar calculo simbólico vamos a utilizar la librearía sympy de python."
   ],
   "metadata": {}
  },
  {
   "cell_type": "code",
   "execution_count": 16,
   "source": [
    "from sympy import *"
   ],
   "outputs": [],
   "metadata": {}
  },
  {
   "cell_type": "markdown",
   "source": [
    "Utilizamos el comando Symbol para definir las variables que se van a utilizar para realizar cálculo simbólico."
   ],
   "metadata": {}
  },
  {
   "cell_type": "code",
   "execution_count": 17,
   "source": [
    "x = Symbol('x')\n",
    "y = Symbol('y')\n",
    "i = Symbol('i')\n",
    "n = Symbol('n')"
   ],
   "outputs": [],
   "metadata": {}
  },
  {
   "cell_type": "markdown",
   "source": [
    "## **Notación Sigma**\n",
    "\n",
    "Podemos representar sumas en notación sigma y calcular su suma. Para ello primero importamos la función Sum() de la librería sympy"
   ],
   "metadata": {}
  },
  {
   "cell_type": "code",
   "execution_count": 18,
   "source": [
    "from sympy import Sum"
   ],
   "outputs": [],
   "metadata": {}
  },
  {
   "cell_type": "markdown",
   "source": [
    "Vamos a calcular $\\displaystyle{\\sum_{i=1}^{10} i^2}$"
   ],
   "metadata": {}
  },
  {
   "cell_type": "code",
   "execution_count": 19,
   "source": [
    "square_sum = Sum(i**2, (i, 1, 10))\n",
    "square_sum"
   ],
   "outputs": [
    {
     "output_type": "execute_result",
     "data": {
      "text/latex": [
       "$\\displaystyle \\sum_{i=1}^{10} i^{2}$"
      ],
      "text/plain": [
       "Sum(i**2, (i, 1, 10))"
      ]
     },
     "metadata": {},
     "execution_count": 19
    }
   ],
   "metadata": {}
  },
  {
   "cell_type": "markdown",
   "source": [
    "A continuación, para calcular la suma usamos el comando doit()"
   ],
   "metadata": {}
  },
  {
   "cell_type": "code",
   "execution_count": 20,
   "source": [
    "square_sum.doit()"
   ],
   "outputs": [
    {
     "output_type": "execute_result",
     "data": {
      "text/latex": [
       "$\\displaystyle 385$"
      ],
      "text/plain": [
       "385"
      ]
     },
     "metadata": {},
     "execution_count": 20
    }
   ],
   "metadata": {}
  },
  {
   "cell_type": "markdown",
   "source": [
    "## **Sumas de Riemann**\n",
    "\n",
    "Ahora vamos a calcular áreas bajo la curva por medio de sumas de Riemann.\n",
    "\n",
    "Calculemos $\\displaystyle{\\sum_{i=1}^n \\frac{i^2}{n^3}}$, para ello utilizamos el comando Sum(). "
   ],
   "metadata": {}
  },
  {
   "cell_type": "code",
   "execution_count": 21,
   "source": [
    "sq_sum = Sum(i**2/n**3, (i, 1, n)).doit()\n",
    "sq_sum"
   ],
   "outputs": [
    {
     "output_type": "execute_result",
     "data": {
      "text/latex": [
       "$\\displaystyle \\frac{\\frac{n^{3}}{3} + \\frac{n^{2}}{2} + \\frac{n}{6}}{n^{3}}$"
      ],
      "text/plain": [
       "(n**3/3 + n**2/2 + n/6)/n**3"
      ]
     },
     "metadata": {},
     "execution_count": 21
    }
   ],
   "metadata": {}
  },
  {
   "cell_type": "markdown",
   "source": [
    "Ahora calculamos el límite de la suma de Riemann utilizando limit()"
   ],
   "metadata": {}
  },
  {
   "cell_type": "code",
   "execution_count": 22,
   "source": [
    "sq_sum.limit(n, oo)"
   ],
   "outputs": [
    {
     "output_type": "execute_result",
     "data": {
      "text/latex": [
       "$\\displaystyle \\frac{1}{3}$"
      ],
      "text/plain": [
       "1/3"
      ]
     },
     "metadata": {},
     "execution_count": 22
    }
   ],
   "metadata": {}
  },
  {
   "cell_type": "markdown",
   "source": [
    "## **Integrales Definidas**\n",
    "\n",
    "Para calcular integrales de la forma $ \\displaystyle{\\int_a^b f(x)\\,dx} $ utilizamos el comando integrate()"
   ],
   "metadata": {}
  },
  {
   "cell_type": "code",
   "execution_count": 23,
   "source": [
    "integrate(x**2, (x,0,1))"
   ],
   "outputs": [
    {
     "output_type": "execute_result",
     "data": {
      "text/latex": [
       "$\\displaystyle \\frac{1}{3}$"
      ],
      "text/plain": [
       "1/3"
      ]
     },
     "metadata": {},
     "execution_count": 23
    }
   ],
   "metadata": {}
  },
  {
   "cell_type": "markdown",
   "source": [
    "## **Integrales indefinidas**\n",
    "\n",
    "Para calcular integrales de la forma $ \\displaystyle{\\int f(x)\\,dx} $ utilizamos el comando integrate()"
   ],
   "metadata": {}
  },
  {
   "cell_type": "code",
   "execution_count": 24,
   "source": [
    "integrate(x**2, x)"
   ],
   "outputs": [
    {
     "output_type": "execute_result",
     "data": {
      "text/latex": [
       "$\\displaystyle \\frac{x^{3}}{3}$"
      ],
      "text/plain": [
       "x**3/3"
      ]
     },
     "metadata": {},
     "execution_count": 24
    }
   ],
   "metadata": {}
  },
  {
   "cell_type": "markdown",
   "source": [
    "# **Aplicaciones** \n",
    "Una empresa está considerando una inversión de 5 años y estima que dentro de $t$ años la inversión estará generando un flujo de ingresos de $3000 + 50t$ dólares por año. Si la tasa prevaleciente de interés anual permanece fija en $4\\%$, y es capitalizada continuamente durante los 5 años ¿cuál es la inversión en 5 años?"
   ],
   "metadata": {}
  },
  {
   "cell_type": "markdown",
   "source": [
    "El valor de la inversión  se mide como el valor futuro del flujo de ingreso en el término de 5 años es:\n",
    "$\\displaystyle{VF= \\int_0^T f(t) e^{r(T-t)}} dt$\n",
    "\n",
    "$VF=\\displaystyle {\\int_0^5 (3000+50t)} e^{0.04(5-t)} \\, dt$"
   ],
   "metadata": {}
  },
  {
   "cell_type": "markdown",
   "source": [
    "## **Integrales impropias**\n",
    "\n",
    "Para calcular integrales de la forma $ \\displaystyle{\\int_{a}^{\\infty} f(x)\\,dx} $ utilizamos el comando integrate() y el símbolo \"oo\" para representar $\\infty$."
   ],
   "metadata": {}
  },
  {
   "cell_type": "code",
   "execution_count": 25,
   "source": [
    "integrate(1/x**2, (x, 1, oo))"
   ],
   "outputs": [
    {
     "output_type": "execute_result",
     "data": {
      "text/latex": [
       "$\\displaystyle 1$"
      ],
      "text/plain": [
       "1"
      ]
     },
     "metadata": {},
     "execution_count": 25
    }
   ],
   "metadata": {}
  },
  {
   "cell_type": "code",
   "execution_count": 30,
   "source": [
    "import math"
   ],
   "outputs": [],
   "metadata": {}
  },
  {
   "cell_type": "code",
   "execution_count": 31,
   "source": [
    "integrate(x*exp(-x), (x,1,oo))"
   ],
   "outputs": [
    {
     "output_type": "execute_result",
     "data": {
      "text/latex": [
       "$\\displaystyle \\frac{2}{e}$"
      ],
      "text/plain": [
       "2*exp(-1)"
      ]
     },
     "metadata": {},
     "execution_count": 31
    }
   ],
   "metadata": {}
  },
  {
   "cell_type": "code",
   "execution_count": 26,
   "source": [
    "from sympy.abc import i, k, m, n, x\n",
    "from sympy import Sum, factorial, oo, IndexedBase, Function"
   ],
   "outputs": [],
   "metadata": {}
  },
  {
   "cell_type": "code",
   "execution_count": 27,
   "source": [
    "Sum(k, (k, 1, n)).doit()"
   ],
   "outputs": [
    {
     "output_type": "execute_result",
     "data": {
      "text/latex": [
       "$\\displaystyle \\frac{n^{2}}{2} + \\frac{n}{2}$"
      ],
      "text/plain": [
       "n**2/2 + n/2"
      ]
     },
     "metadata": {},
     "execution_count": 27
    }
   ],
   "metadata": {}
  },
  {
   "cell_type": "code",
   "execution_count": 28,
   "source": [
    "i = Symbol('i')\n",
    "n = Symbol('n')"
   ],
   "outputs": [],
   "metadata": {}
  },
  {
   "cell_type": "code",
   "execution_count": 29,
   "source": [
    "limit(Sum(i**2/n**3, (i, 1,n)).doit(), n, oo)"
   ],
   "outputs": [
    {
     "output_type": "execute_result",
     "data": {
      "text/latex": [
       "$\\displaystyle \\frac{1}{3}$"
      ],
      "text/plain": [
       "1/3"
      ]
     },
     "metadata": {},
     "execution_count": 29
    }
   ],
   "metadata": {}
  }
 ]
}